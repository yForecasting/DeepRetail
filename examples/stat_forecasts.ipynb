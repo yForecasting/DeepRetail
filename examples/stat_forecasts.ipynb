{
 "cells": [
  {
   "cell_type": "code",
   "execution_count": null,
   "metadata": {},
   "outputs": [],
   "source": [
    "# Example with statistical forecasts"
   ]
  },
  {
   "cell_type": "code",
   "execution_count": 1,
   "metadata": {},
   "outputs": [],
   "source": [
    "import pandas as pd"
   ]
  },
  {
   "cell_type": "code",
   "execution_count": 16,
   "metadata": {},
   "outputs": [],
   "source": [
    "import ray\n",
    "import pandas as pd\n",
    "from DeepRetail.forecasting.extras import for_ray\n",
    "from DeepRetail.preprocessing.converters import transaction_df\n",
    "from DeepRetail.forecasting.statistical import StatisticalForecaster\n",
    "from statsforecast import StatsForecast\n",
    "from statsforecast.models import SeasonalNaive, WindowAverage, Naive, ETS, AutoARIMA\n",
    "import numpy as np"
   ]
  },
  {
   "cell_type": "code",
   "execution_count": 28,
   "metadata": {},
   "outputs": [],
   "source": [
    "@ray.remote\n",
    "def for_ray(forecaster, horizon, n_windows_cv=None):\n",
    "    \"\"\"Uses ray to produce forecasts in parallel\n",
    "\n",
    "    Args:\n",
    "        forecaster (StatsForecast object): The forecast object\n",
    "        horizon (int): Forecasting horizon\n",
    "        n_windows_cv (int, optional): Number of cross-validation windows.\n",
    "                                      Defaults to None.\n",
    "\n",
    "    Returns:\n",
    "        pd.DataFrame: A dataframe with the forecast results.\n",
    "    \"\"\"\n",
    "\n",
    "    # For no cross-validation\n",
    "    if n_windows_cv is None:\n",
    "        forecast_df = forecaster.forecast(h=horizon)\n",
    "\n",
    "        # For cross-validation\n",
    "    else:\n",
    "        forecast_df = forecaster.cross_validation(h=horizon, n_windows=n_windows_cv)\n",
    "\n",
    "    return forecast_df\n",
    "\n",
    "\n",
    "\n",
    "def transaction_df(df, keep_zeros=False):\n",
    "    \"\"\"Converts a pivoted df to a transaction df. A transaction df has 3 columns:\n",
    "        - unique_id: Sales location of each time series.\n",
    "        - date: The date\n",
    "        - y: The value for the time series\n",
    "\n",
    "    Args:\n",
    "        df (pd.DataFrame): The pivoted Dataframe.\n",
    "                        Each row is a time series and columns are the dates.\n",
    "        keep_zeros (bool, optional): If to keep periods with zero sales.\n",
    "                                    Defaults to False.\n",
    "    \"\"\"\n",
    "\n",
    "    # resets the index\n",
    "    trans_df = df.reset_index(names=\"unique_id\")\n",
    "\n",
    "    # Melts\n",
    "    trans_df = pd.melt(trans_df, id_vars=\"unique_id\", value_name=\"y\", var_name=\"date\")\n",
    "\n",
    "    # Filters zeros if keep_zeros is set to True\n",
    "    if keep_zeros:\n",
    "        trans_df = trans_df[trans_df[\"y\"] != 0]\n",
    "\n",
    "    return trans_df\n",
    "\n",
    "\n",
    "class StatisticalForecaster(object):\n",
    "    def __init__(self, models, seasonal_length, window_length=None, n_jobs=-1):\n",
    "\n",
    "        self.models = models\n",
    "        self.seasonal_length = seasonal_length\n",
    "        self.window_length = window_length\n",
    "        self.n_jobs = n_jobs\n",
    "\n",
    "    def fit(\n",
    "        self,\n",
    "        df,\n",
    "        freq,\n",
    "        observation_threshold,\n",
    "        trailing_zeros_threshold,\n",
    "        total_to_forecast=\"all\",\n",
    "    ):\n",
    "\n",
    "        # trailing zeros threshold:\n",
    "        # how many successive zeros at the end so we discard the time series\n",
    "        # On observation threshold consider the test set as well\n",
    "        # (fitted vals + test set)\n",
    "        # -> Rule of thumb: we need at least 3 times the size of the forecast horizon\n",
    "        # -> Rule of thumb 2: at least 2-3 full seasonal circles to capture seasonality\n",
    "\n",
    "        # Generate the model list\n",
    "        models_to_fit = []\n",
    "\n",
    "        # Append to the list\n",
    "        if \"Naive\" in self.models:\n",
    "            models_to_fit.append(Naive())\n",
    "        if \"SNaive\" in self.models:\n",
    "            models_to_fit.append(SeasonalNaive(season_length=self.seasonal_length))\n",
    "        if \"MovingAverage\" in self.models:\n",
    "            models_to_fit.append(WindowAverage(self.window_length))\n",
    "        if \"ETS\" in self.models:\n",
    "            models_to_fit.append(ETS(season_length=self.seasonal_length))\n",
    "        if \"ARIMA\" in self.models:\n",
    "            models_to_fit.append(AutoARIMA(season_length=self.seasonal_length))\n",
    "\n",
    "        # Estimate number of non-zero observations and trailing zeros\n",
    "        obs_count = pd.DataFrame(df.shape[1] - df.isin([0]).sum(axis=1)).rename(\n",
    "            columns={0: \"Total_Observations\"}\n",
    "        )\n",
    "        obs_count[\"Trailing_Zeros\"] = (\n",
    "            df.iloc[:, -trailing_zeros_threshold:].isin([0]).sum(axis=1)\n",
    "        )\n",
    "\n",
    "        # filter\n",
    "        obs_count_f = obs_count[\n",
    "            (obs_count[\"Total_Observations\"] > observation_threshold)\n",
    "            & (obs_count[\"Trailing_Zeros\"] < trailing_zeros_threshold)\n",
    "        ]\n",
    "        ids = obs_count_f.reset_index()[\"unique_id\"].unique()\n",
    "        fc_df = df.loc[ids]\n",
    "\n",
    "        # Give a summary of the selection\n",
    "        print(\n",
    "            f\"From a total of {df.shape[0]}, {fc_df.shape[0]}  fullfill the conditions for forecasting\"\n",
    "        )\n",
    "\n",
    "        # convert to the right format for stats forecasts\n",
    "        # simply renaming\n",
    "        fc_df = transaction_df(fc_df, keep_zeros=False)\n",
    "\n",
    "        # Prepare the date column\n",
    "        fc_df = fc_df.rename(columns={\"date\": \"ds\"})\n",
    "        fc_df[\"ds\"] = pd.to_datetime(fc_df[\"ds\"])\n",
    "\n",
    "        if total_to_forecast != \"all\":\n",
    "            # Take a sample\n",
    "            ids = fc_df[\"unique_id\"].unique()\n",
    "            sample = np.random.choice(ids, 15)\n",
    "            fc_df = fc_df[fc_df[\"unique_id\"].isin(sample)]\n",
    "\n",
    "        # Define the forecaster\n",
    "        forecaster = StatsForecast(\n",
    "            df=fc_df, models=models_to_fit, freq=freq, n_jobs=self.n_jobs\n",
    "        )\n",
    "        # Complete the fit\n",
    "        self.forecaster = forecaster\n",
    "\n",
    "    def predict(self, fh, cv=None, parallel=True):\n",
    "\n",
    "        if parallel:\n",
    "            # For parallelism use ray\n",
    "            res_df = ray.get(for_ray.remote(self.forecaster, fh, cv))\n",
    "\n",
    "        # for no parallelism just forecast\n",
    "        else:\n",
    "            if cv is None:\n",
    "                res_df = self.forecaster.forecast(h=fh)\n",
    "            else:\n",
    "                res_df = self.forecaster.cross_validation(h=fh, n_windows=cv)\n",
    "\n",
    "        return res_df\n"
   ]
  },
  {
   "cell_type": "code",
   "execution_count": 7,
   "metadata": {},
   "outputs": [],
   "source": [
    "df = pd.read_csv('/home/filtheo/DeepRetail/aldi_month.csv', index_col = 0)"
   ]
  },
  {
   "cell_type": "code",
   "execution_count": 25,
   "metadata": {},
   "outputs": [],
   "source": [
    "# Initialize some parameters\n",
    "models = ['ETS', 'Naive', 'SNaive']\n",
    "seasonal_length = 12\n",
    "n_jobs = 1"
   ]
  },
  {
   "cell_type": "code",
   "execution_count": 29,
   "metadata": {},
   "outputs": [],
   "source": [
    "# Define the forecaster\n",
    "# Idealy I want to get rid of the seasonal length and only define frequency\n",
    "# It needs some work so I have not yet implemented it \n",
    "forecaster = StatisticalForecaster(models = models, seasonal_length = seasonal_length, n_jobs = n_jobs)"
   ]
  },
  {
   "cell_type": "code",
   "execution_count": 11,
   "metadata": {},
   "outputs": [
    {
     "name": "stdout",
     "output_type": "stream",
     "text": [
      "39\n"
     ]
    }
   ],
   "source": [
    "print(df.shape[1])"
   ]
  },
  {
   "cell_type": "code",
   "execution_count": null,
   "metadata": {},
   "outputs": [],
   "source": [
    "# A total of 39 months!\n",
    "# For ETS to capture seasonality we need at least 3 complete periods = (12*3 = 36)\n",
    "# I will keep a month as a test set here -> Seasonality wont be captured\n",
    "\n",
    "# Since I have h = 12 I will need at least 2*h non-zero observations for adequate forecasts\n",
    "# (My rule of thumb based on experience with these!)\n",
    "# Also I dont want to forecast items whose demand is stopped to save time"
   ]
  },
  {
   "cell_type": "code",
   "execution_count": 13,
   "metadata": {},
   "outputs": [],
   "source": [
    "# Initialize\n",
    "freq = 'M'\n",
    "ot = 24 # the number of non-zero observations for a time serie\n",
    "                    # Some time series were very intermitteny => non forecasable\n",
    "tzt = 10 # how many zeros at the end to discard from forecasting\n",
    "ttf = 15 # Just a small sample "
   ]
  },
  {
   "cell_type": "code",
   "execution_count": 30,
   "metadata": {},
   "outputs": [
    {
     "name": "stdout",
     "output_type": "stream",
     "text": [
      "From a total of 387, 387  fullfill the conditions for forecasting\n"
     ]
    }
   ],
   "source": [
    "# Fit the forecaster\n",
    "forecaster.fit(df, freq = freq, observation_threshold = ot, trailing_zeros_threshold = tzt, total_to_forecast = ttf )"
   ]
  },
  {
   "cell_type": "code",
   "execution_count": 31,
   "metadata": {},
   "outputs": [],
   "source": [
    "# Variables for forecasting\n",
    "h = 12\n",
    "cv = None # no cross-validation\n",
    "parallel = False # no parallelism"
   ]
  },
  {
   "cell_type": "code",
   "execution_count": 32,
   "metadata": {},
   "outputs": [],
   "source": [
    "# Forecast\n",
    "pred = forecaster.predict(fh = h, cv = cv, parallel = parallel)"
   ]
  },
  {
   "cell_type": "code",
   "execution_count": 34,
   "metadata": {},
   "outputs": [
    {
     "data": {
      "text/html": [
       "<div>\n",
       "<style scoped>\n",
       "    .dataframe tbody tr th:only-of-type {\n",
       "        vertical-align: middle;\n",
       "    }\n",
       "\n",
       "    .dataframe tbody tr th {\n",
       "        vertical-align: top;\n",
       "    }\n",
       "\n",
       "    .dataframe thead th {\n",
       "        text-align: right;\n",
       "    }\n",
       "</style>\n",
       "<table border=\"1\" class=\"dataframe\">\n",
       "  <thead>\n",
       "    <tr style=\"text-align: right;\">\n",
       "      <th></th>\n",
       "      <th>ds</th>\n",
       "      <th>Naive</th>\n",
       "      <th>SeasonalNaive</th>\n",
       "      <th>ETS</th>\n",
       "    </tr>\n",
       "    <tr>\n",
       "      <th>unique_id</th>\n",
       "      <th></th>\n",
       "      <th></th>\n",
       "      <th></th>\n",
       "      <th></th>\n",
       "    </tr>\n",
       "  </thead>\n",
       "  <tbody>\n",
       "    <tr>\n",
       "      <th>101</th>\n",
       "      <td>2022-04-30</td>\n",
       "      <td>24097.0</td>\n",
       "      <td>24052.0</td>\n",
       "      <td>24872.392578</td>\n",
       "    </tr>\n",
       "    <tr>\n",
       "      <th>101</th>\n",
       "      <td>2022-05-31</td>\n",
       "      <td>24097.0</td>\n",
       "      <td>22603.0</td>\n",
       "      <td>24872.392578</td>\n",
       "    </tr>\n",
       "    <tr>\n",
       "      <th>101</th>\n",
       "      <td>2022-06-30</td>\n",
       "      <td>24097.0</td>\n",
       "      <td>24097.0</td>\n",
       "      <td>24872.392578</td>\n",
       "    </tr>\n",
       "    <tr>\n",
       "      <th>101</th>\n",
       "      <td>2022-07-31</td>\n",
       "      <td>24097.0</td>\n",
       "      <td>30265.0</td>\n",
       "      <td>24872.392578</td>\n",
       "    </tr>\n",
       "    <tr>\n",
       "      <th>101</th>\n",
       "      <td>2022-08-31</td>\n",
       "      <td>24097.0</td>\n",
       "      <td>39653.0</td>\n",
       "      <td>24872.392578</td>\n",
       "    </tr>\n",
       "  </tbody>\n",
       "</table>\n",
       "</div>"
      ],
      "text/plain": [
       "                  ds    Naive  SeasonalNaive           ETS\n",
       "unique_id                                                 \n",
       "101       2022-04-30  24097.0        24052.0  24872.392578\n",
       "101       2022-05-31  24097.0        22603.0  24872.392578\n",
       "101       2022-06-30  24097.0        24097.0  24872.392578\n",
       "101       2022-07-31  24097.0        30265.0  24872.392578\n",
       "101       2022-08-31  24097.0        39653.0  24872.392578"
      ]
     },
     "execution_count": 34,
     "metadata": {},
     "output_type": "execute_result"
    }
   ],
   "source": [
    "pred.head()"
   ]
  },
  {
   "cell_type": "code",
   "execution_count": null,
   "metadata": {},
   "outputs": [],
   "source": [
    "# Next steps:\n",
    "# Evaluation\n",
    "# AutoML Forecaster"
   ]
  }
 ],
 "metadata": {
  "kernelspec": {
   "display_name": "Python 3.8.10 ('.venv': venv)",
   "language": "python",
   "name": "python3"
  },
  "language_info": {
   "codemirror_mode": {
    "name": "ipython",
    "version": 3
   },
   "file_extension": ".py",
   "mimetype": "text/x-python",
   "name": "python",
   "nbconvert_exporter": "python",
   "pygments_lexer": "ipython3",
   "version": "3.8.10"
  },
  "orig_nbformat": 4,
  "vscode": {
   "interpreter": {
    "hash": "e0a977ef4b707a2ab114dcc04d33cdef9f2d5f9a022f3f7798d46e710197dc85"
   }
  }
 },
 "nbformat": 4,
 "nbformat_minor": 2
}
